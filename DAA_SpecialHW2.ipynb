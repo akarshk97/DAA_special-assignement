{
 "cells": [
  {
   "cell_type": "code",
   "execution_count": 27,
   "metadata": {},
   "outputs": [
    {
     "name": "stdout",
     "output_type": "stream",
     "text": [
      "True\n",
      "--- 0 milliseconds ---\n",
      "False\n",
      "--- 0 milliseconds ---\n",
      "True\n",
      "--- 0 milliseconds ---\n",
      "False\n",
      "--- 1 milliseconds ---\n",
      "False\n",
      "--- 1 milliseconds ---\n",
      "True\n",
      "--- 1 milliseconds ---\n",
      "True\n",
      "--- 1 milliseconds ---\n",
      "True\n",
      "--- 6 milliseconds ---\n",
      "2\n",
      "3\n",
      "3\n",
      "4\n",
      "4\n",
      "5\n",
      "14\n",
      "30\n"
     ]
    }
   ],
   "source": [
    "#Trial Division Algorithm\n",
    "import time\n",
    "start_time = int(round(time.time() * 1000))\n",
    "def TrialDivision(a):\n",
    "    if a == 2: return True\n",
    "    if a < 2 or a % 2 == 0: return False\n",
    "    return not any(a % x == 0 for x in range(3, int(a**0.5) + 1, 2))\n",
    "def main(n):\n",
    "    Result = TrialDivision(n)\n",
    "    print(Result)\n",
    "    print(\"--- %s milliseconds ---\" % (int(round(time.time() * 1000)) - start_time))\n",
    "def lOfBin(x):\n",
    "    return len(bin(abs(x))[2:])\n",
    "Instances = [3, 4, 5, 10, 15, 17, 9001, 999999937] \n",
    "for k in Instances:\n",
    "    if __name__ == \"__main__\":\n",
    "        main(k)\n",
    "for k in Instances:\n",
    "    print(lOfBin(k))"
   ]
  },
  {
   "cell_type": "code",
   "execution_count": 22,
   "metadata": {},
   "outputs": [],
   "source": [
    "\n"
   ]
  },
  {
   "cell_type": "code",
   "execution_count": 23,
   "metadata": {},
   "outputs": [],
   "source": []
  },
  {
   "cell_type": "code",
   "execution_count": null,
   "metadata": {},
   "outputs": [],
   "source": []
  }
 ],
 "metadata": {
  "kernelspec": {
   "display_name": "Python 3",
   "language": "python",
   "name": "python3"
  },
  "language_info": {
   "codemirror_mode": {
    "name": "ipython",
    "version": 3
   },
   "file_extension": ".py",
   "mimetype": "text/x-python",
   "name": "python",
   "nbconvert_exporter": "python",
   "pygments_lexer": "ipython3",
   "version": "3.7.4"
  }
 },
 "nbformat": 4,
 "nbformat_minor": 2
}
