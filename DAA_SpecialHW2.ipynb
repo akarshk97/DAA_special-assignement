{
 "cells": [
  {
   "cell_type": "code",
   "execution_count": 1,
   "metadata": {},
   "outputs": [
    {
     "name": "stdout",
     "output_type": "stream",
     "text": [
      "Enter your value: 4\n",
      "False\n",
      "--- 2584 milliseconds ---\n"
     ]
    }
   ],
   "source": [
    "#Trial Division Algorithm\n",
    "import time\n",
    "start_time = int(round(time.time() * 1000))\n",
    "def TrialDivision(a):\n",
    "    if a == 2: return True\n",
    "    if a < 2 or a % 2 == 0: return False\n",
    "    return not any(a % x == 0 for x in range(3, int(a**0.5) + 1, 2))\n",
    "def main(n):\n",
    "    Result = TrialDivision(n)\n",
    "    print(Result)\n",
    "    print(\"--- %s milliseconds ---\" % (int(round(time.time() * 1000)) - start_time))\n",
    "\n",
    "n = int(input(\"Enter your value: \"))\n",
    "if __name__ == \"__main__\":\n",
    "    main(n)"
   ]
  },
  {
   "cell_type": "code",
   "execution_count": null,
   "metadata": {},
   "outputs": [
    {
     "name": "stdout",
     "output_type": "stream",
     "text": [
      "Enter your value: 4\n",
      "Enter your value: 9001\n",
      "Enter your value: 99947\n",
      "Enter your value: 6\n",
      "Enter your value: 6\n"
     ]
    }
   ],
   "source": [
    "#Trial Division Time complexity\n",
    "import time\n",
    "import timeit\n",
    "import numpy as np\n",
    "from itertools import repeat\n",
    "import statistics as st\n",
    "\n",
    "code_to_test = \"\"\"\n",
    "#Trial Division Algorithm\n",
    "import time\n",
    "start_time = int(round(time.time() * 1000))\n",
    "def TrialDivision(a):\n",
    "    if a == 2: return True\n",
    "    if a < 2 or a % 2 == 0: return False\n",
    "    return not any(a % x == 0 for x in range(3, int(a**0.5) + 1, 2))\n",
    "def main(n):\n",
    "    Result = TrialDivision(n)\n",
    "    print(Result)\n",
    "    print(\"--- %s milliseconds ---\" % (int(round(time.time() * 1000)) - start_time))\n",
    "\n",
    "n = int(input(\"Enter your value: \"))\n",
    "if __name__ == \"__main__\":\n",
    "    main(n)\n",
    "\"\"\"\n",
    "TimeArray = np.array(float)\n",
    "for k in range(0, 3):\n",
    "    elapsed_time = timeit.timeit(code_to_test, number=100)/100\n",
    "    TimeArray = np.append(TimeArray, elapsed_time)\n",
    "    #print(elapsed_time)\n",
    "print(TimeArray)\n",
    "#MeanTimeArray = sum(TimeArray) / float(len(TimeArray))\n",
    "#print(MeanTimeArray)"
   ]
  },
  {
   "cell_type": "code",
   "execution_count": 87,
   "metadata": {},
   "outputs": [],
   "source": [
    "def lOfBin(x):\n",
    "    return len(bin(abs(x))[2:])"
   ]
  },
  {
   "cell_type": "code",
   "execution_count": 88,
   "metadata": {},
   "outputs": [
    {
     "data": {
      "text/plain": [
       "2"
      ]
     },
     "execution_count": 88,
     "metadata": {},
     "output_type": "execute_result"
    }
   ],
   "source": [
    "lOfBin(3)"
   ]
  },
  {
   "cell_type": "code",
   "execution_count": 89,
   "metadata": {},
   "outputs": [
    {
     "data": {
      "text/plain": [
       "24"
      ]
     },
     "execution_count": 89,
     "metadata": {},
     "output_type": "execute_result"
    }
   ],
   "source": [
    "lOfBin(9999945)"
   ]
  },
  {
   "cell_type": "code",
   "execution_count": null,
   "metadata": {},
   "outputs": [],
   "source": [
    "lOfBin()"
   ]
  }
 ],
 "metadata": {
  "kernelspec": {
   "display_name": "Python 3",
   "language": "python",
   "name": "python3"
  },
  "language_info": {
   "codemirror_mode": {
    "name": "ipython",
    "version": 3
   },
   "file_extension": ".py",
   "mimetype": "text/x-python",
   "name": "python",
   "nbconvert_exporter": "python",
   "pygments_lexer": "ipython3",
   "version": "3.7.4"
  }
 },
 "nbformat": 4,
 "nbformat_minor": 2
}
