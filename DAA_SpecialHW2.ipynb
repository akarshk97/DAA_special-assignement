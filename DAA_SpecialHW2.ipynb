{
 "cells": [
  {
   "cell_type": "code",
   "execution_count": 2,
   "metadata": {},
   "outputs": [
    {
     "name": "stdout",
     "output_type": "stream",
     "text": [
      "Is Prime? : True\n",
      "Running time is 3 millisecond(s)\n",
      "Input size is 2 bits\n",
      "\n",
      "Is Prime? : False\n",
      "Running time is 3 millisecond(s)\n",
      "Input size is 3 bits\n",
      "\n",
      "Is Prime? : True\n",
      "Running time is 3 millisecond(s)\n",
      "Input size is 3 bits\n",
      "\n",
      "Is Prime? : False\n",
      "Running time is 4 millisecond(s)\n",
      "Input size is 4 bits\n",
      "\n",
      "Is Prime? : False\n",
      "Running time is 4 millisecond(s)\n",
      "Input size is 4 bits\n",
      "\n",
      "Is Prime? : True\n",
      "Running time is 4 millisecond(s)\n",
      "Input size is 5 bits\n",
      "\n",
      "Is Prime? : True\n",
      "Running time is 4 millisecond(s)\n",
      "Input size is 14 bits\n",
      "\n",
      "Is Prime? : True\n",
      "Running time is 7 millisecond(s)\n",
      "Input size is 30 bits\n",
      "\n"
     ]
    }
   ],
   "source": [
    "#Trial Division Algorithm\n",
    "import time\n",
    "#from mprun_demo import sum_of_lists\n",
    "start_time = int(round(time.time() * 1000))\n",
    "def TrialDivision(n):\n",
    "    if n == 2: return True\n",
    "    if n < 2 or n % 2 == 0: return False\n",
    "    return not any(n % x == 0 for x in range(3, int(n**0.5) + 1, 2))\n",
    "def main(number):\n",
    "    IsPrime = TrialDivision(number)\n",
    "    print(\"Is Prime? : %s\" % IsPrime)\n",
    "    print(\"Running time is %s millisecond(s)\" % (int(round(time.time() * 1000)) - start_time))\n",
    "def lOfBin(x):\n",
    "    return len(bin(abs(x))[2:])\n",
    "Instances = [3, 4, 5, 10, 15, 17, 9001, 999999937] \n",
    "for k in Instances:\n",
    "    if __name__ == \"__main__\":\n",
    "        main(k)\n",
    "        print(\"Input size is %s bits\" % lOfBin(k))\n",
    "        print(\"\")\n",
    "\n"
   ]
  },
  {
   "cell_type": "code",
   "execution_count": 49,
   "metadata": {},
   "outputs": [
    {
     "name": "stdout",
     "output_type": "stream",
     "text": [
      "Collecting memory_profiler\n",
      "  Downloading https://files.pythonhosted.org/packages/f4/03/175d380294b2333b9b79c2f2aa235eb90ee95e3ddef644497a9455404312/memory_profiler-0.57.0.tar.gz\n",
      "Requirement already satisfied: psutil in c:\\softwares\\lib\\site-packages (from memory_profiler) (5.6.3)\n",
      "Building wheels for collected packages: memory-profiler\n",
      "  Building wheel for memory-profiler (setup.py): started\n",
      "  Building wheel for memory-profiler (setup.py): finished with status 'done'\n",
      "  Created wheel for memory-profiler: filename=memory_profiler-0.57.0-cp37-none-any.whl size=28998 sha256=29135df1850d56fc27e134f4d5d999b510f18e57a335817ce225b7cd8d2648fe\n",
      "  Stored in directory: C:\\Users\\zeena\\AppData\\Local\\pip\\Cache\\wheels\\74\\20\\b5\\20964ef97be73d2c3a695c9cad7bccd96d1e3e737a8163861f\n",
      "Successfully built memory-profiler\n",
      "Installing collected packages: memory-profiler\n",
      "Successfully installed memory-profiler-0.57.0\n",
      "Note: you may need to restart the kernel to use updated packages.\n"
     ]
    }
   ],
   "source": [
    "pip install memory_profiler\n"
   ]
  },
  {
   "cell_type": "code",
   "execution_count": 1,
   "metadata": {},
   "outputs": [],
   "source": [
    "%load_ext memory_profiler"
   ]
  },
  {
   "cell_type": "code",
   "execution_count": 4,
   "metadata": {},
   "outputs": [
    {
     "name": "stdout",
     "output_type": "stream",
     "text": [
      "peak memory: 51.61 MiB, increment: 0.00 MiB\n"
     ]
    }
   ],
   "source": [
    "%memit TrialDivision(900001)"
   ]
  },
  {
   "cell_type": "code",
   "execution_count": null,
   "metadata": {},
   "outputs": [],
   "source": []
  }
 ],
 "metadata": {
  "kernelspec": {
   "display_name": "Python 3",
   "language": "python",
   "name": "python3"
  },
  "language_info": {
   "codemirror_mode": {
    "name": "ipython",
    "version": 3
   },
   "file_extension": ".py",
   "mimetype": "text/x-python",
   "name": "python",
   "nbconvert_exporter": "python",
   "pygments_lexer": "ipython3",
   "version": "3.7.4"
  }
 },
 "nbformat": 4,
 "nbformat_minor": 2
}
