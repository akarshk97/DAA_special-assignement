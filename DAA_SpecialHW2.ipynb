{
 "cells": [
  {
   "cell_type": "code",
   "execution_count": 37,
   "metadata": {},
   "outputs": [
    {
     "name": "stdout",
     "output_type": "stream",
     "text": [
      "Is Prime? : True\n",
      "Running time is 1 milliseconds\n",
      "Input size is 2 bits\n",
      "\n",
      "Is Prime? : False\n",
      "Running time is 1 milliseconds\n",
      "Input size is 3 bits\n",
      "\n",
      "Is Prime? : True\n",
      "Running time is 1 milliseconds\n",
      "Input size is 3 bits\n",
      "\n",
      "Is Prime? : False\n",
      "Running time is 2 milliseconds\n",
      "Input size is 4 bits\n",
      "\n",
      "Is Prime? : False\n",
      "Running time is 2 milliseconds\n",
      "Input size is 4 bits\n",
      "\n",
      "Is Prime? : True\n",
      "Running time is 2 milliseconds\n",
      "Input size is 5 bits\n",
      "\n",
      "Is Prime? : True\n",
      "Running time is 2 milliseconds\n",
      "Input size is 14 bits\n",
      "\n",
      "Is Prime? : True\n",
      "Running time is 5 milliseconds\n",
      "Input size is 30 bits\n",
      "\n"
     ]
    }
   ],
   "source": [
    "#Trial Division Algorithm\n",
    "import time\n",
    "start_time = int(round(time.time() * 1000))\n",
    "def TrialDivision(n):\n",
    "    if n == 2: return True\n",
    "    if n < 2 or n % 2 == 0: return False\n",
    "    return not any(n % x == 0 for x in range(3, int(n**0.5) + 1, 2))\n",
    "def main(number):\n",
    "    IsPrime = TrialDivision(number)\n",
    "    print(\"Is Prime? : %s\" % IsPrime)\n",
    "    print(\"Running time is %s milliseconds\" % (int(round(time.time() * 1000)) - start_time))\n",
    "def lOfBin(x):\n",
    "    return len(bin(abs(x))[2:])\n",
    "Instances = [3, 4, 5, 10, 15, 17, 9001, 999999937] \n",
    "for k in Instances:\n",
    "    if __name__ == \"__main__\":\n",
    "        main(k)\n",
    "        print(\"Input size is %s bits\" % lOfBin(k))\n",
    "        print(\"\")\n",
    "   "
   ]
  },
  {
   "cell_type": "code",
   "execution_count": 22,
   "metadata": {},
   "outputs": [],
   "source": [
    "\n"
   ]
  },
  {
   "cell_type": "code",
   "execution_count": 23,
   "metadata": {},
   "outputs": [],
   "source": []
  },
  {
   "cell_type": "code",
   "execution_count": null,
   "metadata": {},
   "outputs": [],
   "source": []
  }
 ],
 "metadata": {
  "kernelspec": {
   "display_name": "Python 3",
   "language": "python",
   "name": "python3"
  },
  "language_info": {
   "codemirror_mode": {
    "name": "ipython",
    "version": 3
   },
   "file_extension": ".py",
   "mimetype": "text/x-python",
   "name": "python",
   "nbconvert_exporter": "python",
   "pygments_lexer": "ipython3",
   "version": "3.7.4"
  }
 },
 "nbformat": 4,
 "nbformat_minor": 2
}
