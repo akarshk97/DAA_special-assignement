{
  "nbformat": 4,
  "nbformat_minor": 0,
  "metadata": {
    "colab": {
      "name": "Untitled0.ipynb",
      "provenance": [],
      "authorship_tag": "ABX9TyOoRUG89gq6TqDc1763ibx8",
      "include_colab_link": true
    },
    "kernelspec": {
      "name": "python3",
      "display_name": "Python 3"
    }
  },
  "cells": [
    {
      "cell_type": "markdown",
      "metadata": {
        "id": "view-in-github",
        "colab_type": "text"
      },
      "source": [
        "<a href=\"https://colab.research.google.com/github/akarshk97/DAA_special-assignment2/blob/master/Untitled0.ipynb\" target=\"_parent\"><img src=\"https://colab.research.google.com/assets/colab-badge.svg\" alt=\"Open In Colab\"/></a>"
      ]
    },
    {
      "cell_type": "code",
      "metadata": {
        "id": "q719J13Jk7w-",
        "colab_type": "code",
        "colab": {}
      },
      "source": [
        ""
      ],
      "execution_count": 0,
      "outputs": []
    },
    {
      "cell_type": "code",
      "metadata": {
        "id": "-HcGeMuc7Cnm",
        "colab_type": "code",
        "colab": {}
      },
      "source": [
        "from Crypto.Util import number"
      ],
      "execution_count": 0,
      "outputs": []
    },
    {
      "cell_type": "code",
      "metadata": {
        "id": "bypVOf4dNRhO",
        "colab_type": "code",
        "colab": {
          "base_uri": "https://localhost:8080/",
          "height": 54
        },
        "outputId": "da146214-e65a-42f0-aeeb-68a8218330a2"
      },
      "source": [
        "pip install pycrypto"
      ],
      "execution_count": 20,
      "outputs": [
        {
          "output_type": "stream",
          "text": [
            "Requirement already satisfied: pycrypto in /usr/local/lib/python3.6/dist-packages (2.6.1)\n"
          ],
          "name": "stdout"
        }
      ]
    },
    {
      "cell_type": "code",
      "metadata": {
        "id": "LRFTGNNANz-i",
        "colab_type": "code",
        "colab": {}
      },
      "source": [
        "from Crypto.Util import number"
      ],
      "execution_count": 0,
      "outputs": []
    },
    {
      "cell_type": "code",
      "metadata": {
        "id": "1E7Dpg8jYlLY",
        "colab_type": "code",
        "colab": {}
      },
      "source": [
        "from math import gcd \n",
        "import matplotlib.pyplot as plt\n",
        "import time\n",
        "import sys\n",
        "\n",
        "def pollard(N,x,y,c):\n",
        "  factor=1\n",
        "  while factor==1:\n",
        "    x=(x*x +c)%N\n",
        "    y=(((y*y +c)*(y*y +c))+c)%N\n",
        "    factor=gcd(abs(x-y),N)\n",
        "    #if factor>1:\n",
        "    #  return factor\n",
        "    if x==y:\n",
        "      c=c+1 \n",
        "      x=1\n",
        "    if factor==N:\n",
        "      x=x+1\n",
        "      y=y+1\n",
        "      c=1\n",
        "      factor=1\n",
        "  return factor, sys.getsizeof(x)+sys.getsizeof(y)+sys.getsizeof(c)"
      ],
      "execution_count": 0,
      "outputs": []
    },
    {
      "cell_type": "code",
      "metadata": {
        "id": "QAibOtW6NFlD",
        "colab_type": "code",
        "colab": {
          "base_uri": "https://localhost:8080/",
          "height": 198
        },
        "outputId": "22a0ade4-5f6d-4aa3-d0e4-bf20daf96ccc"
      },
      "source": [
        "pollard(125,1,1,1)\n",
        "#pollard(147929021,1,1,1)"
      ],
      "execution_count": 1,
      "outputs": [
        {
          "output_type": "error",
          "ename": "NameError",
          "evalue": "ignored",
          "traceback": [
            "\u001b[0;31m---------------------------------------------------------------------------\u001b[0m",
            "\u001b[0;31mNameError\u001b[0m                                 Traceback (most recent call last)",
            "\u001b[0;32m<ipython-input-1-9b0ddc4e2c87>\u001b[0m in \u001b[0;36m<module>\u001b[0;34m()\u001b[0m\n\u001b[0;32m----> 1\u001b[0;31m \u001b[0mpollard\u001b[0m\u001b[0;34m(\u001b[0m\u001b[0;36m125\u001b[0m\u001b[0;34m,\u001b[0m\u001b[0;36m1\u001b[0m\u001b[0;34m,\u001b[0m\u001b[0;36m1\u001b[0m\u001b[0;34m,\u001b[0m\u001b[0;36m1\u001b[0m\u001b[0;34m)\u001b[0m\u001b[0;34m\u001b[0m\u001b[0;34m\u001b[0m\u001b[0m\n\u001b[0m\u001b[1;32m      2\u001b[0m \u001b[0;31m#pollard(147929021,1,1,1)\u001b[0m\u001b[0;34m\u001b[0m\u001b[0;34m\u001b[0m\u001b[0;34m\u001b[0m\u001b[0m\n",
            "\u001b[0;31mNameError\u001b[0m: name 'pollard' is not defined"
          ]
        }
      ]
    },
    {
      "cell_type": "code",
      "metadata": {
        "id": "PazxJM_DN_Q8",
        "colab_type": "code",
        "colab": {}
      },
      "source": [
        "from Crypto.Util import number\n",
        "semiprimes=[[] for _ in range(28)]\n",
        "bitlength=[]\n",
        "for i in range(2,30):\n",
        "  for j in range(3):\n",
        "    prime1=number.getPrime(i)\n",
        "    prime2=number.getPrime(i)\n",
        "    semiprimes[i-2].append(prime1*prime2)\n",
        "  bitlength.append(2*i)\n",
        "  #print(semiprimes[i-2],\" of bit length \",2*i)"
      ],
      "execution_count": 0,
      "outputs": []
    },
    {
      "cell_type": "code",
      "metadata": {
        "id": "BOTS19UCMPUO",
        "colab_type": "code",
        "colab": {
          "base_uri": "https://localhost:8080/",
          "height": 500
        },
        "outputId": "c8efac29-43d8-4aa2-bfd6-315f99eab4a4"
      },
      "source": [
        "semiprimes"
      ],
      "execution_count": 25,
      "outputs": [
        {
          "output_type": "execute_result",
          "data": {
            "text/plain": [
              "[[9, 9, 9],\n",
              " [49, 35, 35],\n",
              " [121, 187, 121],\n",
              " [667, 841, 841],\n",
              " [2773, 1369, 3127],\n",
              " [7031, 12319, 12319],\n",
              " [31439, 34393, 30551],\n",
              " [101671, 107869, 126283],\n",
              " [594593, 551923, 650263],\n",
              " [1943327, 3276673, 1763537],\n",
              " [6884287, 7331507, 4936829],\n",
              " [29119133, 35310403, 51496153],\n",
              " [81160481, 147929021, 114314983],\n",
              " [628382047, 698901649, 639620719],\n",
              " [2449539941, 1631569987, 3305413183],\n",
              " [6393688823, 8955506743, 8494623847],\n",
              " [46508665279, 28797541027, 26059012099],\n",
              " [183953022719, 86903248807, 123819460043],\n",
              " [616702329757, 451135574651, 592810096511],\n",
              " [3146791507091, 2093095849597, 2146803668203],\n",
              " [5412192736219, 8848770572933, 9496495701923],\n",
              " [47884887467419, 43865160944893, 42289330857089],\n",
              " [100709665316917, 149942123246609, 128629157853169],\n",
              " [578251183224031, 462397459076899, 737026559485901],\n",
              " [1856944559810537, 2324878555814651, 1854576439904609],\n",
              " [12988076800549847, 7908083169426329, 12329298659628563],\n",
              " [35739684829435277, 51309479088723223, 22594632133628563],\n",
              " [135623970850322257, 176040082361747743, 129652577272820531]]"
            ]
          },
          "metadata": {
            "tags": []
          },
          "execution_count": 25
        }
      ]
    },
    {
      "cell_type": "code",
      "metadata": {
        "id": "gfdiBxegMjld",
        "colab_type": "code",
        "colab": {}
      },
      "source": [
        "import time "
      ],
      "execution_count": 0,
      "outputs": []
    },
    {
      "cell_type": "code",
      "metadata": {
        "id": "har313vtXf60",
        "colab_type": "code",
        "colab": {}
      },
      "source": [
        "\n",
        "semiprimes_factors=[[] for _ in range(28)]\n",
        "runtimes=[[] for _ in range(28)]\n",
        "for i in range(len(semiprimes)):\n",
        "  for _ in semiprimes[i]:\n",
        "    start=time.time()\n",
        "    print(pollard(_,1,1,1))\n",
        "    semiprimes_factors[i].append(pollard(_,1,1,1))\n",
        "    finish=time.time()\n",
        "    runtimes[i].append(abs(finish-start))"
      ],
      "execution_count": 0,
      "outputs": []
    },
    {
      "cell_type": "code",
      "metadata": {
        "id": "UDoP_Fs7Zcpi",
        "colab_type": "code",
        "colab": {}
      },
      "source": [
        "avg_runtimes=[]\n",
        "for _ in range(len(runtimes)):\n",
        "  avg_runtimes.append(sum(runtimes[_])/len(runtimes[_]))\n",
        "\n",
        "std_runtimes=[]\n",
        "for _ in range(len(runtimes)):\n",
        "  std_runtimes.append(np.std(runtimes[_]))"
      ],
      "execution_count": 0,
      "outputs": []
    },
    {
      "cell_type": "code",
      "metadata": {
        "id": "Gzq9jtFbOEiX",
        "colab_type": "code",
        "colab": {
          "base_uri": "https://localhost:8080/",
          "height": 54
        },
        "outputId": "c37afd2f-779d-4ae2-a6d2-0e5e0260c2f3"
      },
      "source": [
        "#print(semiprimes)\n",
        "print(bitlength)\n",
        "#print(len(bitlength))\n",
        "print(avg_runtimes)\n",
        "import numpy as np\n",
        "np.std(avg_runtimes)\n",
        "print()  \n"
      ],
      "execution_count": 99,
      "outputs": [
        {
          "output_type": "stream",
          "text": [
            "[4, 6, 8, 10, 12, 14, 16, 18, 20, 22, 24, 26, 28, 30, 32, 34, 36, 38, 40, 42, 44, 46, 48, 50, 52, 54, 56, 58]\n"
          ],
          "name": "stdout"
        }
      ]
    },
    {
      "cell_type": "code",
      "metadata": {
        "id": "9ducEjxDQ0Jd",
        "colab_type": "code",
        "colab": {
          "base_uri": "https://localhost:8080/",
          "height": 302
        },
        "outputId": "dc546e5b-5421-4f81-b5a8-9b524319f805"
      },
      "source": [
        "plt.plot(bitlength,avg_runtimes)"
      ],
      "execution_count": 58,
      "outputs": [
        {
          "output_type": "execute_result",
          "data": {
            "text/plain": [
              "[<matplotlib.lines.Line2D at 0x7f17e846b668>]"
            ]
          },
          "metadata": {
            "tags": []
          },
          "execution_count": 58
        },
        {
          "output_type": "display_data",
          "data": {
            "image/png": "[encoded data removed]",
            "text/plain": [
              "<Figure size 432x288 with 1 Axes>"
            ]
          },
          "metadata": {
            "tags": []
          }
        }
      ]
    },
    {
      "cell_type": "code",
      "metadata": {
        "id": "f_DZYTQgZE-x",
        "colab_type": "code",
        "colab": {}
      },
      "source": [
        "runtimes"
      ],
      "execution_count": 0,
      "outputs": []
    },
    {
      "cell_type": "code",
      "metadata": {
        "id": "PAsX4e7AZE4i",
        "colab_type": "code",
        "colab": {}
      },
      "source": [
        ""
      ],
      "execution_count": 0,
      "outputs": []
    },
    {
      "cell_type": "code",
      "metadata": {
        "id": "f8fIR2FEalTh",
        "colab_type": "code",
        "colab": {}
      },
      "source": [
        "import numpy as np\n"
      ],
      "execution_count": 0,
      "outputs": []
    },
    {
      "cell_type": "code",
      "metadata": {
        "id": "DDfyYhYkkXin",
        "colab_type": "code",
        "colab": {
          "base_uri": "https://localhost:8080/",
          "height": 54
        },
        "outputId": "38f7936f-c2b1-4de8-9c42-6ad6a0a0f509"
      },
      "source": [
        "c1=np.polyfit(bitlength,avg_runtimes,1)\n",
        "print(c1)\n"
      ],
      "execution_count": 71,
      "outputs": [
        {
          "output_type": "stream",
          "text": [
            "[ 0.00023564 -0.00454077]\n"
          ],
          "name": "stdout"
        }
      ]
    },
    {
      "cell_type": "code",
      "metadata": {
        "id": "_ySd65yfnD9f",
        "colab_type": "code",
        "colab": {}
      },
      "source": [
        "c1=np.polyfit(bitlength,avg_runtimes,1)\n",
        "print(c1)\n",
        "y=[]\n",
        "for _ in bitlength:\n",
        "  y.append(c1[0]*_/2+c1[1])\n",
        "plt.plot(bitlength,y)"
      ],
      "execution_count": 0,
      "outputs": []
    },
    {
      "cell_type": "code",
      "metadata": {
        "id": "sCq17f03mrGo",
        "colab_type": "code",
        "colab": {}
      },
      "source": [
        "y"
      ],
      "execution_count": 0,
      "outputs": []
    },
    {
      "cell_type": "code",
      "metadata": {
        "id": "U72BtaSot0ZD",
        "colab_type": "code",
        "colab": {
          "base_uri": "https://localhost:8080/",
          "height": 302
        },
        "outputId": "d1889b9c-72f6-4215-a150-f1550f25f042"
      },
      "source": [
        "plt.plot(bitlength,y)"
      ],
      "execution_count": 85,
      "outputs": [
        {
          "output_type": "execute_result",
          "data": {
            "text/plain": [
              "[<matplotlib.lines.Line2D at 0x7f17e864ac18>]"
            ]
          },
          "metadata": {
            "tags": []
          },
          "execution_count": 85
        },
        {
          "output_type": "display_data",
          "data": {
            "image/png": "[encoded data removed]",
            "text/plain": [
              "<Figure size 432x288 with 1 Axes>"
            ]
          },
          "metadata": {
            "tags": []
          }
        }
      ]
    },
    {
      "cell_type": "code",
      "metadata": {
        "id": "HO0bwpl2uDaN",
        "colab_type": "code",
        "colab": {}
      },
      "source": [
        "#theoritical\n",
        "x=np.linspace(2,30,50)\n",
        "z=x/4"
      ],
      "execution_count": 0,
      "outputs": []
    },
    {
      "cell_type": "code",
      "metadata": {
        "id": "-1Sy3iGBuiFF",
        "colab_type": "code",
        "colab": {
          "base_uri": "https://localhost:8080/",
          "height": 332
        },
        "outputId": "5ac75383-a4c0-4f0d-a40e-ffc9cdf1b87d"
      },
      "source": [
        "plt.plot(x,z,bitlength,y)\n",
        "plt.xlabel('Bit length')\n",
        "plt.ylabel('Time')\n",
        "plt.title('Time complexities graph for pollard rho')\n",
        "plt.legend()\n",
        "plt.show()"
      ],
      "execution_count": 93,
      "outputs": [
        {
          "output_type": "stream",
          "text": [
            "No handles with labels found to put in legend.\n"
          ],
          "name": "stderr"
        },
        {
          "output_type": "display_data",
          "data": {
            "image/png": "[encoded data removed]",
            "text/plain": [
              "<Figure size 432x288 with 1 Axes>"
            ]
          },
          "metadata": {
            "tags": []
          }
        }
      ]
    },
    {
      "cell_type": "code",
      "metadata": {
        "id": "3x9iAk2Cukqe",
        "colab_type": "code",
        "colab": {}
      },
      "source": [
        ""
      ],
      "execution_count": 0,
      "outputs": []
    },
    {
      "cell_type": "code",
      "metadata": {
        "id": "tC8FXmQVvfh2",
        "colab_type": "code",
        "colab": {}
      },
      "source": [
        "\n"
      ],
      "execution_count": 0,
      "outputs": []
    },
    {
      "cell_type": "code",
      "metadata": {
        "id": "0f2KhZyoxf-O",
        "colab_type": "code",
        "colab": {}
      },
      "source": [
        "bitlength"
      ],
      "execution_count": 0,
      "outputs": []
    },
    {
      "cell_type": "code",
      "metadata": {
        "id": "OICfI_oFxgnB",
        "colab_type": "code",
        "colab": {}
      },
      "source": [
        "avg_space=[0.02]*28"
      ],
      "execution_count": 0,
      "outputs": []
    },
    {
      "cell_type": "code",
      "metadata": {
        "id": "NP30iiWp3Q9u",
        "colab_type": "code",
        "colab": {}
      },
      "source": [
        "import matplotlib.pyplot as plt\n",
        "\n",
        "plt.plot(bitlength,avg_space)"
      ],
      "execution_count": 0,
      "outputs": []
    },
    {
      "cell_type": "code",
      "metadata": {
        "id": "0a3FbEoN8FJA",
        "colab_type": "code",
        "colab": {}
      },
      "source": [
        ""
      ],
      "execution_count": 0,
      "outputs": []
    }
  ]
}