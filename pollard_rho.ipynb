{
  "nbformat": 4,
  "nbformat_minor": 0,
  "metadata": {
    "colab": {
      "name": "pollard_rho.ipynb",
      "provenance": [],
      "authorship_tag": "ABX9TyP9EEbm1pvjGtzZrLYr3ZCa",
      "include_colab_link": true
    },
    "kernelspec": {
      "name": "python3",
      "display_name": "Python 3"
    }
  },
  "cells": [
    {
      "cell_type": "markdown",
      "metadata": {
        "id": "view-in-github",
        "colab_type": "text"
      },
      "source": [
        "<a href=\"https://colab.research.google.com/github/akarshk97/DAA_special-assignment2/blob/pollard-edits/pollard_rho.ipynb\" target=\"_parent\"><img src=\"https://colab.research.google.com/assets/colab-badge.svg\" alt=\"Open In Colab\"/></a>"
      ]
    },
    {
      "cell_type": "code",
      "metadata": {
        "id": "LH5W4iO-CTUs",
        "colab_type": "code",
        "colab": {}
      },
      "source": [
        "from math import gcd \n",
        "import matplotlib.pyplot as plt\n",
        "import time\n",
        "\n",
        "def pollard(N,x,y,c):\n",
        "  factor=1\n",
        "  while factor==1:\n",
        "    x=(x*x +c)%N\n",
        "    y=(((y*y +c)*(y*y +c))+c)%N\n",
        "    factor=gcd(abs(x-y),N)\n",
        "    #if factor>1:\n",
        "    #  return factor\n",
        "    if x==y:\n",
        "      c=c+1 \n",
        "      x=1\n",
        "    if factor==N:\n",
        "      x=x+1\n",
        "      c=1\n",
        "      factor=1\n",
        "  return factor\n",
        "s=time.time()\n",
        "pollard(93461639715357977769163558199606896584051237541638188580280321*93461639715357977769163558199606896584051237541638188580280321,1,1,1)\n",
        "f=time.time()\n",
        "print(f-s)"
      ],
      "execution_count": 0,
      "outputs": []
    },
    {
      "cell_type": "code",
      "metadata": {
        "id": "5cYGh3K5JKNF",
        "colab_type": "code",
        "colab": {}
      },
      "source": [
        "from Crypto.Util import number\n",
        "semiprimes=[[] for _ in range(28)]\n",
        "bitlength=[]\n",
        "for i in range(2,30):\n",
        "  for j in range(3):\n",
        "    prime1=number.getPrime(i)\n",
        "    prime2=number.getPrime(i)\n",
        "    semiprimes[i-2].append(prime1*prime2)\n",
        "  bitlength.append(2*i)\n",
        "print(semiprimes[i-2],\" of bit length \",2*i)"
      ],
      "execution_count": 0,
      "outputs": []
    },
    {
      "cell_type": "code",
      "metadata": {
        "id": "9yb_apLMEo0f",
        "colab_type": "code",
        "colab": {}
      },
      "source": [
        "import time\n",
        "semiprimes_factors=[[] for _ in range(28)]\n",
        "runtimes=[[] for _ in range(28)]\n",
        "for i in range(len(semiprimes)):\n",
        "  for _ in semiprimes[i]:\n",
        "    start=time.time()\n",
        "    semiprimes_factors[i].append(pollard(_,1,1,1))\n",
        "    finish=time.time()\n",
        "    runtimes[i].append(abs(finish-start))"
      ],
      "execution_count": 0,
      "outputs": []
    },
    {
      "cell_type": "code",
      "metadata": {
        "id": "ruL0XYPjII9N",
        "colab_type": "code",
        "colab": {}
      },
      "source": [
        "\n",
        "plt.plot(subprimes,runtimes)"
      ],
      "execution_count": 0,
      "outputs": []
    },
    {
      "cell_type": "code",
      "metadata": {
        "id": "3pPiP4_YND1Y",
        "colab_type": "code",
        "colab": {}
      },
      "source": [
        ""
      ],
      "execution_count": 0,
      "outputs": []
    }
  ]
}